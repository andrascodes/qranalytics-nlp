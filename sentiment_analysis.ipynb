{
 "cells": [
  {
   "cell_type": "code",
   "execution_count": 1,
   "metadata": {
    "collapsed": true
   },
   "outputs": [],
   "source": [
    "import pandas as pd"
   ]
  },
  {
   "cell_type": "code",
   "execution_count": 2,
   "metadata": {
    "collapsed": false
   },
   "outputs": [],
   "source": [
    "data = pd.read_csv('sentiment_analysis_models/input/dataset.csv')"
   ]
  },
  {
   "cell_type": "code",
   "execution_count": 3,
   "metadata": {
    "collapsed": false
   },
   "outputs": [
    {
     "data": {
      "text/html": [
       "<div>\n",
       "<table border=\"1\" class=\"dataframe\">\n",
       "  <thead>\n",
       "    <tr style=\"text-align: right;\">\n",
       "      <th></th>\n",
       "      <th>id</th>\n",
       "      <th>text</th>\n",
       "      <th>sentiment</th>\n",
       "    </tr>\n",
       "  </thead>\n",
       "  <tbody>\n",
       "    <tr>\n",
       "      <th>0</th>\n",
       "      <td>126301956951117826</td>\n",
       "      <td>@Twitter CEO points to @Apple as 'corporate me...</td>\n",
       "      <td>positive</td>\n",
       "    </tr>\n",
       "    <tr>\n",
       "      <th>1</th>\n",
       "      <td>126107965991297024</td>\n",
       "      <td>Not Bad! @Apple Sells Over 4 Million #IPhones ...</td>\n",
       "      <td>positive</td>\n",
       "    </tr>\n",
       "    <tr>\n",
       "      <th>2</th>\n",
       "      <td>126008369562652672</td>\n",
       "      <td>Kind of excited. On my way to my last class ri...</td>\n",
       "      <td>positive</td>\n",
       "    </tr>\n",
       "    <tr>\n",
       "      <th>3</th>\n",
       "      <td>126183339945234432</td>\n",
       "      <td>@Apple downloads of iOS 5 are proving popular ...</td>\n",
       "      <td>positive</td>\n",
       "    </tr>\n",
       "    <tr>\n",
       "      <th>4</th>\n",
       "      <td>125922999651139584</td>\n",
       "      <td>One word - #wow. RT @jldavid iPhone 4S First W...</td>\n",
       "      <td>positive</td>\n",
       "    </tr>\n",
       "    <tr>\n",
       "      <th>5</th>\n",
       "      <td>126352268705538048</td>\n",
       "      <td>Come to the dark side 📱“@gretcheneclark: Hey ...</td>\n",
       "      <td>positive</td>\n",
       "    </tr>\n",
       "    <tr>\n",
       "      <th>6</th>\n",
       "      <td>126287654093471745</td>\n",
       "      <td>At the bus with my iPhone ;) thxx @apple</td>\n",
       "      <td>positive</td>\n",
       "    </tr>\n",
       "    <tr>\n",
       "      <th>7</th>\n",
       "      <td>126256230397259776</td>\n",
       "      <td>@apple @jilive @DanielPink: Apple sells 4 mill...</td>\n",
       "      <td>positive</td>\n",
       "    </tr>\n",
       "    <tr>\n",
       "      <th>8</th>\n",
       "      <td>126360935509135362</td>\n",
       "      <td>RT @PhillipRowntree: Just registered as an @ap...</td>\n",
       "      <td>positive</td>\n",
       "    </tr>\n",
       "    <tr>\n",
       "      <th>9</th>\n",
       "      <td>126180209501286400</td>\n",
       "      <td>Lmfao look at the argument I had with Siri !!\\...</td>\n",
       "      <td>positive</td>\n",
       "    </tr>\n",
       "    <tr>\n",
       "      <th>10</th>\n",
       "      <td>126318009647235072</td>\n",
       "      <td>RT @TripLingo: We're one of a few Featured Edu...</td>\n",
       "      <td>positive</td>\n",
       "    </tr>\n",
       "    <tr>\n",
       "      <th>11</th>\n",
       "      <td>125974505385500672</td>\n",
       "      <td>.@apple you got me. I'm now invested. MacBook ...</td>\n",
       "      <td>positive</td>\n",
       "    </tr>\n",
       "    <tr>\n",
       "      <th>12</th>\n",
       "      <td>125925618486489088</td>\n",
       "      <td>Been off twitter for a few days as I smashed m...</td>\n",
       "      <td>positive</td>\n",
       "    </tr>\n",
       "    <tr>\n",
       "      <th>13</th>\n",
       "      <td>126112836219973632</td>\n",
       "      <td>#sweet... #apple replaced my glass #probono. t...</td>\n",
       "      <td>positive</td>\n",
       "    </tr>\n",
       "    <tr>\n",
       "      <th>14</th>\n",
       "      <td>126377656416612353</td>\n",
       "      <td>Great up close &amp; personal event @Apple tonight...</td>\n",
       "      <td>positive</td>\n",
       "    </tr>\n",
       "    <tr>\n",
       "      <th>15</th>\n",
       "      <td>126315011600678913</td>\n",
       "      <td>When you want something done right, you do it ...</td>\n",
       "      <td>positive</td>\n",
       "    </tr>\n",
       "    <tr>\n",
       "      <th>16</th>\n",
       "      <td>126059405941809152</td>\n",
       "      <td>Is it just me or is #iOS5 faster for the iPad?...</td>\n",
       "      <td>positive</td>\n",
       "    </tr>\n",
       "    <tr>\n",
       "      <th>17</th>\n",
       "      <td>126358340220616704</td>\n",
       "      <td>Just registered as an @apple developer... Here...</td>\n",
       "      <td>positive</td>\n",
       "    </tr>\n",
       "    <tr>\n",
       "      <th>18</th>\n",
       "      <td>126002597063696384</td>\n",
       "      <td>i used to be with @blackberry over 4-5yrs .. a...</td>\n",
       "      <td>positive</td>\n",
       "    </tr>\n",
       "    <tr>\n",
       "      <th>19</th>\n",
       "      <td>126075534894571520</td>\n",
       "      <td>@Wisconsin_Mommy @Apple I'd totally email the ...</td>\n",
       "      <td>positive</td>\n",
       "    </tr>\n",
       "    <tr>\n",
       "      <th>20</th>\n",
       "      <td>126097426493878272</td>\n",
       "      <td>I'm loving this new IOS5 update :) @apple</td>\n",
       "      <td>positive</td>\n",
       "    </tr>\n",
       "    <tr>\n",
       "      <th>21</th>\n",
       "      <td>126063358037340161</td>\n",
       "      <td>Once again getting great customer service from...</td>\n",
       "      <td>positive</td>\n",
       "    </tr>\n",
       "    <tr>\n",
       "      <th>22</th>\n",
       "      <td>126402758403305474</td>\n",
       "      <td>Hilarious @youtube video - guy does a duet wit...</td>\n",
       "      <td>positive</td>\n",
       "    </tr>\n",
       "    <tr>\n",
       "      <th>23</th>\n",
       "      <td>125947912306954240</td>\n",
       "      <td>@KostaTsetsekas @apple Putting it in the wash ...</td>\n",
       "      <td>positive</td>\n",
       "    </tr>\n",
       "    <tr>\n",
       "      <th>24</th>\n",
       "      <td>126360398885687296</td>\n",
       "      <td>Wow. Great deals on refurbed #iPad (first gen)...</td>\n",
       "      <td>positive</td>\n",
       "    </tr>\n",
       "    <tr>\n",
       "      <th>25</th>\n",
       "      <td>126116898051076096</td>\n",
       "      <td>#Siri now knows who my dad, mom, brother and g...</td>\n",
       "      <td>positive</td>\n",
       "    </tr>\n",
       "    <tr>\n",
       "      <th>26</th>\n",
       "      <td>126315223060709376</td>\n",
       "      <td>We're one of a few Featured Education Apps on ...</td>\n",
       "      <td>positive</td>\n",
       "    </tr>\n",
       "    <tr>\n",
       "      <th>27</th>\n",
       "      <td>126034495991328768</td>\n",
       "      <td>So yeah... @apple #iOS5 #readinglists have cha...</td>\n",
       "      <td>positive</td>\n",
       "    </tr>\n",
       "    <tr>\n",
       "      <th>28</th>\n",
       "      <td>126019393460244481</td>\n",
       "      <td>I love @apple service . My case has cracked 3x...</td>\n",
       "      <td>positive</td>\n",
       "    </tr>\n",
       "    <tr>\n",
       "      <th>29</th>\n",
       "      <td>126116614495154176</td>\n",
       "      <td>Well at least the @apple store has amazing cal...</td>\n",
       "      <td>positive</td>\n",
       "    </tr>\n",
       "    <tr>\n",
       "      <th>...</th>\n",
       "      <td>...</td>\n",
       "      <td>...</td>\n",
       "      <td>...</td>\n",
       "    </tr>\n",
       "    <tr>\n",
       "      <th>2910</th>\n",
       "      <td>126860835560755200</td>\n",
       "      <td>Its new #Theme after #Updates have to b use wi...</td>\n",
       "      <td>neutral</td>\n",
       "    </tr>\n",
       "    <tr>\n",
       "      <th>2911</th>\n",
       "      <td>126862244075151361</td>\n",
       "      <td>Ahhh!! Why is #Twitter so #addicting</td>\n",
       "      <td>neutral</td>\n",
       "    </tr>\n",
       "    <tr>\n",
       "      <th>2912</th>\n",
       "      <td>126862244427468800</td>\n",
       "      <td>#twitter I hope all of you never stop dreaming...</td>\n",
       "      <td>neutral</td>\n",
       "    </tr>\n",
       "    <tr>\n",
       "      <th>2913</th>\n",
       "      <td>126858953673027584</td>\n",
       "      <td>#Retail friends, follow @MicrosoftHelps on #Tw...</td>\n",
       "      <td>neutral</td>\n",
       "    </tr>\n",
       "    <tr>\n",
       "      <th>2914</th>\n",
       "      <td>126861916286103552</td>\n",
       "      <td>RT @mmurrayphoto: Sounds like #CJ20K is going ...</td>\n",
       "      <td>neutral</td>\n",
       "    </tr>\n",
       "    <tr>\n",
       "      <th>2915</th>\n",
       "      <td>126858961159864320</td>\n",
       "      <td>Wordd @BblowPoundz This #TT was well needed cu...</td>\n",
       "      <td>neutral</td>\n",
       "    </tr>\n",
       "    <tr>\n",
       "      <th>2916</th>\n",
       "      <td>126862728181714944</td>\n",
       "      <td>@Katieec7 lmao I love it please be on #twitter...</td>\n",
       "      <td>neutral</td>\n",
       "    </tr>\n",
       "    <tr>\n",
       "      <th>2917</th>\n",
       "      <td>126859053757501440</td>\n",
       "      <td>RT @MizzSpicey: Now tuned in to http://t.co/DY...</td>\n",
       "      <td>neutral</td>\n",
       "    </tr>\n",
       "    <tr>\n",
       "      <th>2918</th>\n",
       "      <td>126861321995173890</td>\n",
       "      <td>ok man down... I will own #TWITTER 2morrow!</td>\n",
       "      <td>neutral</td>\n",
       "    </tr>\n",
       "    <tr>\n",
       "      <th>2919</th>\n",
       "      <td>126860932881186817</td>\n",
       "      <td>Night #twitter lord please let that girl get s...</td>\n",
       "      <td>neutral</td>\n",
       "    </tr>\n",
       "    <tr>\n",
       "      <th>2920</th>\n",
       "      <td>126860691255721984</td>\n",
       "      <td>#Twitter Buzz Builds for the #Occupy_Wall_Stre...</td>\n",
       "      <td>neutral</td>\n",
       "    </tr>\n",
       "    <tr>\n",
       "      <th>2921</th>\n",
       "      <td>126859745154957312</td>\n",
       "      <td>Bout to tweet about tweeting #twitter #Seahawk...</td>\n",
       "      <td>neutral</td>\n",
       "    </tr>\n",
       "    <tr>\n",
       "      <th>2922</th>\n",
       "      <td>126860527497515008</td>\n",
       "      <td>Woooow I just log out from #twitter and there'...</td>\n",
       "      <td>neutral</td>\n",
       "    </tr>\n",
       "    <tr>\n",
       "      <th>2923</th>\n",
       "      <td>126861715752222720</td>\n",
       "      <td>RT @JOMANERH: My #twitter age is 234 days 13 h...</td>\n",
       "      <td>neutral</td>\n",
       "    </tr>\n",
       "    <tr>\n",
       "      <th>2924</th>\n",
       "      <td>126860700915208193</td>\n",
       "      <td>Whats a good #twitter ap for #iOS that links t...</td>\n",
       "      <td>neutral</td>\n",
       "    </tr>\n",
       "    <tr>\n",
       "      <th>2925</th>\n",
       "      <td>126861952369700865</td>\n",
       "      <td>#Twitter'Offf :D</td>\n",
       "      <td>neutral</td>\n",
       "    </tr>\n",
       "    <tr>\n",
       "      <th>2926</th>\n",
       "      <td>126860933988483073</td>\n",
       "      <td>@briannaa___ Pls let us know if you need help ...</td>\n",
       "      <td>neutral</td>\n",
       "    </tr>\n",
       "    <tr>\n",
       "      <th>2927</th>\n",
       "      <td>126856873738633216</td>\n",
       "      <td>I love my #twitter name.</td>\n",
       "      <td>neutral</td>\n",
       "    </tr>\n",
       "    <tr>\n",
       "      <th>2928</th>\n",
       "      <td>126856421907243009</td>\n",
       "      <td>#Tweetdeck working but not #Twitter for #Android</td>\n",
       "      <td>neutral</td>\n",
       "    </tr>\n",
       "    <tr>\n",
       "      <th>2929</th>\n",
       "      <td>126856031367204865</td>\n",
       "      <td>Increase your #twitter followers and or your #...</td>\n",
       "      <td>neutral</td>\n",
       "    </tr>\n",
       "    <tr>\n",
       "      <th>2930</th>\n",
       "      <td>126856387211960320</td>\n",
       "      <td>#TWITTER #OFF DO #BrUnODeLuCaS :」</td>\n",
       "      <td>neutral</td>\n",
       "    </tr>\n",
       "    <tr>\n",
       "      <th>2931</th>\n",
       "      <td>126858281867149312</td>\n",
       "      <td>I Feel Like #Promoting Anyones #Twitter Page (...</td>\n",
       "      <td>neutral</td>\n",
       "    </tr>\n",
       "    <tr>\n",
       "      <th>2932</th>\n",
       "      <td>126858233032871937</td>\n",
       "      <td>Night #Twitter</td>\n",
       "      <td>neutral</td>\n",
       "    </tr>\n",
       "    <tr>\n",
       "      <th>2933</th>\n",
       "      <td>126857916631355393</td>\n",
       "      <td>@asshsmith never #twitter is where i #speakmym...</td>\n",
       "      <td>neutral</td>\n",
       "    </tr>\n",
       "    <tr>\n",
       "      <th>2934</th>\n",
       "      <td>126858194046816256</td>\n",
       "      <td>the marijuana loud so the hoes follow like #Tw...</td>\n",
       "      <td>neutral</td>\n",
       "    </tr>\n",
       "    <tr>\n",
       "      <th>2935</th>\n",
       "      <td>126857676134166528</td>\n",
       "      <td>Twhistler makes Twitter sing!  #twitter http:/...</td>\n",
       "      <td>neutral</td>\n",
       "    </tr>\n",
       "    <tr>\n",
       "      <th>2936</th>\n",
       "      <td>126853298996252674</td>\n",
       "      <td>It's almost 4:20. Where is your bong? Is it pa...</td>\n",
       "      <td>neutral</td>\n",
       "    </tr>\n",
       "    <tr>\n",
       "      <th>2937</th>\n",
       "      <td>126855191571070976</td>\n",
       "      <td>62 Ways to Use #Twitter for Business: http://t...</td>\n",
       "      <td>neutral</td>\n",
       "    </tr>\n",
       "    <tr>\n",
       "      <th>2938</th>\n",
       "      <td>126856150980374528</td>\n",
       "      <td>gud mrng #twitter &amp; all my frnds too. ;)</td>\n",
       "      <td>neutral</td>\n",
       "    </tr>\n",
       "    <tr>\n",
       "      <th>2939</th>\n",
       "      <td>126858276339056640</td>\n",
       "      <td>#bedtime #goodnight #twitter</td>\n",
       "      <td>neutral</td>\n",
       "    </tr>\n",
       "  </tbody>\n",
       "</table>\n",
       "<p>2940 rows × 3 columns</p>\n",
       "</div>"
      ],
      "text/plain": [
       "                      id                                               text  \\\n",
       "0     126301956951117826  @Twitter CEO points to @Apple as 'corporate me...   \n",
       "1     126107965991297024  Not Bad! @Apple Sells Over 4 Million #IPhones ...   \n",
       "2     126008369562652672  Kind of excited. On my way to my last class ri...   \n",
       "3     126183339945234432  @Apple downloads of iOS 5 are proving popular ...   \n",
       "4     125922999651139584  One word - #wow. RT @jldavid iPhone 4S First W...   \n",
       "5     126352268705538048  Come to the dark side 📱“@gretcheneclark: Hey ...   \n",
       "6     126287654093471745           At the bus with my iPhone ;) thxx @apple   \n",
       "7     126256230397259776  @apple @jilive @DanielPink: Apple sells 4 mill...   \n",
       "8     126360935509135362  RT @PhillipRowntree: Just registered as an @ap...   \n",
       "9     126180209501286400  Lmfao look at the argument I had with Siri !!\\...   \n",
       "10    126318009647235072  RT @TripLingo: We're one of a few Featured Edu...   \n",
       "11    125974505385500672  .@apple you got me. I'm now invested. MacBook ...   \n",
       "12    125925618486489088  Been off twitter for a few days as I smashed m...   \n",
       "13    126112836219973632  #sweet... #apple replaced my glass #probono. t...   \n",
       "14    126377656416612353  Great up close & personal event @Apple tonight...   \n",
       "15    126315011600678913  When you want something done right, you do it ...   \n",
       "16    126059405941809152  Is it just me or is #iOS5 faster for the iPad?...   \n",
       "17    126358340220616704  Just registered as an @apple developer... Here...   \n",
       "18    126002597063696384  i used to be with @blackberry over 4-5yrs .. a...   \n",
       "19    126075534894571520  @Wisconsin_Mommy @Apple I'd totally email the ...   \n",
       "20    126097426493878272          I'm loving this new IOS5 update :) @apple   \n",
       "21    126063358037340161  Once again getting great customer service from...   \n",
       "22    126402758403305474  Hilarious @youtube video - guy does a duet wit...   \n",
       "23    125947912306954240  @KostaTsetsekas @apple Putting it in the wash ...   \n",
       "24    126360398885687296  Wow. Great deals on refurbed #iPad (first gen)...   \n",
       "25    126116898051076096  #Siri now knows who my dad, mom, brother and g...   \n",
       "26    126315223060709376  We're one of a few Featured Education Apps on ...   \n",
       "27    126034495991328768  So yeah... @apple #iOS5 #readinglists have cha...   \n",
       "28    126019393460244481  I love @apple service . My case has cracked 3x...   \n",
       "29    126116614495154176  Well at least the @apple store has amazing cal...   \n",
       "...                  ...                                                ...   \n",
       "2910  126860835560755200  Its new #Theme after #Updates have to b use wi...   \n",
       "2911  126862244075151361               Ahhh!! Why is #Twitter so #addicting   \n",
       "2912  126862244427468800  #twitter I hope all of you never stop dreaming...   \n",
       "2913  126858953673027584  #Retail friends, follow @MicrosoftHelps on #Tw...   \n",
       "2914  126861916286103552  RT @mmurrayphoto: Sounds like #CJ20K is going ...   \n",
       "2915  126858961159864320  Wordd @BblowPoundz This #TT was well needed cu...   \n",
       "2916  126862728181714944  @Katieec7 lmao I love it please be on #twitter...   \n",
       "2917  126859053757501440  RT @MizzSpicey: Now tuned in to http://t.co/DY...   \n",
       "2918  126861321995173890        ok man down... I will own #TWITTER 2morrow!   \n",
       "2919  126860932881186817  Night #twitter lord please let that girl get s...   \n",
       "2920  126860691255721984  #Twitter Buzz Builds for the #Occupy_Wall_Stre...   \n",
       "2921  126859745154957312  Bout to tweet about tweeting #twitter #Seahawk...   \n",
       "2922  126860527497515008  Woooow I just log out from #twitter and there'...   \n",
       "2923  126861715752222720  RT @JOMANERH: My #twitter age is 234 days 13 h...   \n",
       "2924  126860700915208193  Whats a good #twitter ap for #iOS that links t...   \n",
       "2925  126861952369700865                                   #Twitter'Offf :D   \n",
       "2926  126860933988483073  @briannaa___ Pls let us know if you need help ...   \n",
       "2927  126856873738633216                           I love my #twitter name.   \n",
       "2928  126856421907243009   #Tweetdeck working but not #Twitter for #Android   \n",
       "2929  126856031367204865  Increase your #twitter followers and or your #...   \n",
       "2930  126856387211960320                  #TWITTER #OFF DO #BrUnODeLuCaS :」   \n",
       "2931  126858281867149312  I Feel Like #Promoting Anyones #Twitter Page (...   \n",
       "2932  126858233032871937                                     Night #Twitter   \n",
       "2933  126857916631355393  @asshsmith never #twitter is where i #speakmym...   \n",
       "2934  126858194046816256  the marijuana loud so the hoes follow like #Tw...   \n",
       "2935  126857676134166528  Twhistler makes Twitter sing!  #twitter http:/...   \n",
       "2936  126853298996252674  It's almost 4:20. Where is your bong? Is it pa...   \n",
       "2937  126855191571070976  62 Ways to Use #Twitter for Business: http://t...   \n",
       "2938  126856150980374528           gud mrng #twitter & all my frnds too. ;)   \n",
       "2939  126858276339056640                       #bedtime #goodnight #twitter   \n",
       "\n",
       "     sentiment  \n",
       "0     positive  \n",
       "1     positive  \n",
       "2     positive  \n",
       "3     positive  \n",
       "4     positive  \n",
       "5     positive  \n",
       "6     positive  \n",
       "7     positive  \n",
       "8     positive  \n",
       "9     positive  \n",
       "10    positive  \n",
       "11    positive  \n",
       "12    positive  \n",
       "13    positive  \n",
       "14    positive  \n",
       "15    positive  \n",
       "16    positive  \n",
       "17    positive  \n",
       "18    positive  \n",
       "19    positive  \n",
       "20    positive  \n",
       "21    positive  \n",
       "22    positive  \n",
       "23    positive  \n",
       "24    positive  \n",
       "25    positive  \n",
       "26    positive  \n",
       "27    positive  \n",
       "28    positive  \n",
       "29    positive  \n",
       "...        ...  \n",
       "2910   neutral  \n",
       "2911   neutral  \n",
       "2912   neutral  \n",
       "2913   neutral  \n",
       "2914   neutral  \n",
       "2915   neutral  \n",
       "2916   neutral  \n",
       "2917   neutral  \n",
       "2918   neutral  \n",
       "2919   neutral  \n",
       "2920   neutral  \n",
       "2921   neutral  \n",
       "2922   neutral  \n",
       "2923   neutral  \n",
       "2924   neutral  \n",
       "2925   neutral  \n",
       "2926   neutral  \n",
       "2927   neutral  \n",
       "2928   neutral  \n",
       "2929   neutral  \n",
       "2930   neutral  \n",
       "2931   neutral  \n",
       "2932   neutral  \n",
       "2933   neutral  \n",
       "2934   neutral  \n",
       "2935   neutral  \n",
       "2936   neutral  \n",
       "2937   neutral  \n",
       "2938   neutral  \n",
       "2939   neutral  \n",
       "\n",
       "[2940 rows x 3 columns]"
      ]
     },
     "execution_count": 3,
     "metadata": {},
     "output_type": "execute_result"
    }
   ],
   "source": [
    "data"
   ]
  },
  {
   "cell_type": "code",
   "execution_count": 4,
   "metadata": {
    "collapsed": true
   },
   "outputs": [],
   "source": [
    "tweets = data['text'].tolist()\n",
    "sentiments = data['sentiment'].tolist()"
   ]
  },
  {
   "cell_type": "markdown",
   "metadata": {},
   "source": [
    "# Cleaning the data"
   ]
  },
  {
   "cell_type": "code",
   "execution_count": 5,
   "metadata": {
    "collapsed": true
   },
   "outputs": [],
   "source": [
    "from message_tokenize import tokenize_and_stem"
   ]
  },
  {
   "cell_type": "markdown",
   "metadata": {
    "collapsed": true
   },
   "source": [
    "# TFIDF matrix"
   ]
  },
  {
   "cell_type": "code",
   "execution_count": 6,
   "metadata": {
    "collapsed": false
   },
   "outputs": [
    {
     "name": "stderr",
     "output_type": "stream",
     "text": [
      "/Users/andrewszucs/anaconda/lib/python2.7/site-packages/sklearn/cross_validation.py:44: DeprecationWarning: This module was deprecated in version 0.18 in favor of the model_selection module into which all the refactored classes and functions are moved. Also note that the interface of the new CV iterators are different from that of this module. This module will be removed in 0.20.\n",
      "  \"This module will be removed in 0.20.\", DeprecationWarning)\n"
     ]
    }
   ],
   "source": [
    "from sklearn.naive_bayes import MultinomialNB\n",
    "from sklearn.cross_validation import train_test_split\n",
    "from sklearn.feature_extraction.text import CountVectorizer\n",
    "from sklearn.feature_extraction.text import TfidfTransformer"
   ]
  },
  {
   "cell_type": "code",
   "execution_count": 7,
   "metadata": {
    "collapsed": false
   },
   "outputs": [],
   "source": [
    "count_vect = CountVectorizer(stop_words='english', tokenizer=tokenize_and_stem, \n",
    "                             max_df=0.9, min_df=0.01, ngram_range=(1,3))\n",
    "X_train_counts = count_vect.fit_transform(tweets)"
   ]
  },
  {
   "cell_type": "code",
   "execution_count": 8,
   "metadata": {
    "collapsed": false
   },
   "outputs": [],
   "source": [
    "tfidf_transformer = TfidfTransformer()\n",
    "X_train_tfidf = tfidf_transformer.fit_transform(X_train_counts)"
   ]
  },
  {
   "cell_type": "code",
   "execution_count": 9,
   "metadata": {
    "collapsed": false
   },
   "outputs": [
    {
     "data": {
      "text/plain": [
       "95"
      ]
     },
     "execution_count": 9,
     "metadata": {},
     "output_type": "execute_result"
    }
   ],
   "source": [
    "len(count_vect.get_feature_names())"
   ]
  },
  {
   "cell_type": "markdown",
   "metadata": {},
   "source": [
    "# Classifying"
   ]
  },
  {
   "cell_type": "code",
   "execution_count": 10,
   "metadata": {
    "collapsed": true
   },
   "outputs": [],
   "source": [
    "clf = MultinomialNB().fit(X_train_tfidf, sentiments)"
   ]
  },
  {
   "cell_type": "code",
   "execution_count": 11,
   "metadata": {
    "collapsed": false
   },
   "outputs": [
    {
     "data": {
      "text/plain": [
       "0.73503401360544218"
      ]
     },
     "execution_count": 11,
     "metadata": {},
     "output_type": "execute_result"
    }
   ],
   "source": [
    "clf.score(X_train_counts, sentiments)"
   ]
  },
  {
   "cell_type": "markdown",
   "metadata": {},
   "source": [
    "# Persist Model"
   ]
  },
  {
   "cell_type": "code",
   "execution_count": 12,
   "metadata": {
    "collapsed": true
   },
   "outputs": [],
   "source": [
    "from sklearn.externals import joblib"
   ]
  },
  {
   "cell_type": "code",
   "execution_count": 13,
   "metadata": {
    "collapsed": false
   },
   "outputs": [
    {
     "data": {
      "text/plain": [
       "['sentiment_analysis_models/clf.pkl']"
      ]
     },
     "execution_count": 13,
     "metadata": {},
     "output_type": "execute_result"
    }
   ],
   "source": [
    "joblib.dump(count_vect, 'sentiment_analysis_models/count_vect.pkl')\n",
    "joblib.dump(tfidf_transformer, 'sentiment_analysis_models/tfidf_transformer.pkl')\n",
    "joblib.dump(clf, 'sentiment_analysis_models/clf.pkl')"
   ]
  },
  {
   "cell_type": "markdown",
   "metadata": {},
   "source": [
    "# Testing the prediction"
   ]
  },
  {
   "cell_type": "code",
   "execution_count": 14,
   "metadata": {
    "collapsed": false
   },
   "outputs": [],
   "source": [
    "from predict_message_sentiment import predict_sentiment"
   ]
  },
  {
   "cell_type": "code",
   "execution_count": 15,
   "metadata": {
    "collapsed": false
   },
   "outputs": [
    {
     "data": {
      "text/plain": [
       "'positive'"
      ]
     },
     "execution_count": 15,
     "metadata": {},
     "output_type": "execute_result"
    }
   ],
   "source": [
    "predict_sentiment('I love this')"
   ]
  },
  {
   "cell_type": "code",
   "execution_count": 16,
   "metadata": {
    "collapsed": false
   },
   "outputs": [
    {
     "data": {
      "text/plain": [
       "'negative'"
      ]
     },
     "execution_count": 16,
     "metadata": {},
     "output_type": "execute_result"
    }
   ],
   "source": [
    "predict_sentiment('I hate this')"
   ]
  },
  {
   "cell_type": "code",
   "execution_count": 17,
   "metadata": {
    "collapsed": false
   },
   "outputs": [
    {
     "data": {
      "text/plain": [
       "'neutral'"
      ]
     },
     "execution_count": 17,
     "metadata": {},
     "output_type": "execute_result"
    }
   ],
   "source": [
    "predict_sentiment('Just some common text')"
   ]
  }
 ],
 "metadata": {
  "kernelspec": {
   "display_name": "Python 2",
   "language": "python",
   "name": "python2"
  },
  "language_info": {
   "codemirror_mode": {
    "name": "ipython",
    "version": 2
   },
   "file_extension": ".py",
   "mimetype": "text/x-python",
   "name": "python",
   "nbconvert_exporter": "python",
   "pygments_lexer": "ipython2",
   "version": "2.7.13"
  }
 },
 "nbformat": 4,
 "nbformat_minor": 2
}
